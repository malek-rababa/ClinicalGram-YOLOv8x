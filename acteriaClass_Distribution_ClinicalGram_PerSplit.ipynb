{
 "cells": [
  {
   "cell_type": "code",
   "execution_count": null,
   "id": "94e7402a-ddb4-41a3-b282-bacccd228ba3",
   "metadata": {},
   "outputs": [],
   "source": [
    "#for training"
   ]
  },
  {
   "cell_type": "code",
   "execution_count": 19,
   "id": "aa340c7e-ee83-4605-9173-0d127e307195",
   "metadata": {},
   "outputs": [
    {
     "name": "stdout",
     "output_type": "stream",
     "text": [
      "\n",
      "=== Bacteria Class Instance Counts ===\n",
      "Class 0: 835 instances\n",
      "Class 1: 834 instances\n",
      "Class 2: 834 instances\n",
      "Class 3: 835 instances\n",
      "\n",
      "Total instances across all classes: 3338\n"
     ]
    }
   ],
   "source": [
    "from pathlib import Path\n",
    "from collections import Counter\n",
    "\n",
    "# path to YOLO label files\n",
    "labels_path = Path(\"/home/siu856582712/Documents/dataset/dataset/train/labels\")\n",
    "if not labels_path.exists():\n",
    "    raise FileNotFoundError(f\"Label folder not found: {labels_path}\")\n",
    "\n",
    "# count instances per class id\n",
    "class_counter = Counter()\n",
    "for label_file in labels_path.glob(\"*.txt\"):\n",
    "    with open(label_file, \"r\") as f:\n",
    "        for line in f:\n",
    "            parts = line.strip().split()\n",
    "            if parts:\n",
    "                class_counter[int(parts[0])] += 1\n",
    "\n",
    "# report\n",
    "print(\"\\nBacteria class instance counts:\")\n",
    "for class_id in range(4):  # classes: 0,1,2,3\n",
    "    print(f\"Class {class_id}: {class_counter.get(class_id, 0)} instances\")\n",
    "\n",
    "print(f\"\\nTotal instances across all classes: {sum(class_counter.values())}\")\n"
   ]
  },
  {
   "cell_type": "code",
   "execution_count": null,
   "id": "5c68e6c5-21f9-4cf9-8533-212935b674fe",
   "metadata": {},
   "outputs": [],
   "source": [
    "#for validation"
   ]
  },
  {
   "cell_type": "code",
   "execution_count": 20,
   "id": "d4c49557-a695-4e43-8fe8-1afae4ef0239",
   "metadata": {},
   "outputs": [
    {
     "name": "stdout",
     "output_type": "stream",
     "text": [
      "\n",
      "=== Bacteria Class Instance Counts ===\n",
      "Class 0: 1691 instances\n",
      "Class 1: 419 instances\n",
      "Class 2: 3311 instances\n",
      "Class 3: 239 instances\n",
      "\n",
      "Total instances across all classes: 5660\n"
     ]
    }
   ],
   "source": [
    "from pathlib import Path\n",
    "from collections import Counter\n",
    "\n",
    "# path to YOLO label files (val split)\n",
    "labels_path = Path(\"/home/siu856582712/Documents/dataset/dataset/val/labels\")\n",
    "if not labels_path.exists():\n",
    "    raise FileNotFoundError(f\"Label folder not found: {labels_path}\")\n",
    "\n",
    "# count instances per class id\n",
    "class_counter = Counter()\n",
    "for label_file in labels_path.glob(\"*.txt\"):\n",
    "    with open(label_file, \"r\") as f:\n",
    "        for line in f:\n",
    "            parts = line.strip().split()\n",
    "            if parts:\n",
    "                class_counter[int(parts[0])] += 1\n",
    "\n",
    "# report\n",
    "print(\"\\nBacteria class instance counts (val):\")\n",
    "for class_id in range(4):  # classes: 0,1,2,3\n",
    "    print(f\"Class {class_id}: {class_counter.get(class_id, 0)} instances\")\n",
    "\n",
    "print(f\"\\nTotal instances across all classes: {sum(class_counter.values())}\")\n"
   ]
  },
  {
   "cell_type": "code",
   "execution_count": null,
   "id": "78a08cc8-7732-48ff-806c-203482038476",
   "metadata": {},
   "outputs": [],
   "source": [
    "#for test"
   ]
  },
  {
   "cell_type": "code",
   "execution_count": 21,
   "id": "34e67411-fa53-4a51-ab91-1d6ae4042e30",
   "metadata": {},
   "outputs": [
    {
     "name": "stdout",
     "output_type": "stream",
     "text": [
      "\n",
      "=== Bacteria Class Instance Counts ===\n",
      "Class 0: 845 instances\n",
      "Class 1: 209 instances\n",
      "Class 2: 1654 instances\n",
      "Class 3: 118 instances\n",
      "\n",
      "Total instances across all classes: 2826\n"
     ]
    }
   ],
   "source": [
    "from pathlib import Path\n",
    "from collections import Counter\n",
    "\n",
    "# path to YOLO label files (test split)\n",
    "labels_path = Path(\"/home/siu856582712/Documents/dataset/dataset/test/labels\")\n",
    "if not labels_path.exists():\n",
    "    raise FileNotFoundError(f\"Label folder not found: {labels_path}\")\n",
    "\n",
    "# count instances per class id\n",
    "class_counter = Counter()\n",
    "for label_file in labels_path.glob(\"*.txt\"):\n",
    "    with open(label_file, \"r\") as f:\n",
    "        for line in f:\n",
    "            parts = line.strip().split()\n",
    "            if parts:\n",
    "                class_counter[int(parts[0])] += 1\n",
    "\n",
    "# report\n",
    "print(\"\\nBacteria class instance counts (test):\")\n",
    "for class_id in range(4):  # classes: 0,1,2,3\n",
    "    print(f\"Class {class_id}: {class_counter.get(class_id, 0)} instances\")\n",
    "\n",
    "print(f\"\\nTotal instances across all classes: {sum(class_counter.values())}\")\n"
   ]
  },
  {
   "cell_type": "code",
   "execution_count": 2,
   "id": "38e4b8a8-d032-4d2f-bdfa-ceccf632e6c6",
   "metadata": {},
   "outputs": [
    {
     "name": "stdout",
     "output_type": "stream",
     "text": [
      "\n",
      "=== Bacteria Class Instance Counts ===\n",
      "Class 0: 3371 instances\n",
      "Class 1: 1462 instances\n",
      "Class 2: 5799 instances\n",
      "Class 3: 1192 instances\n",
      "\n",
      "Total instances across all classes: 11824\n"
     ]
    }
   ],
   "source": [
    "from pathlib import Path\n",
    "from collections import Counter\n",
    "\n",
    "# path to YOLO label files (entire Clinical set)\n",
    "labels_path = Path(\"/home/siu856582712/Documents/dataset/Clinical/labels\")\n",
    "if not labels_path.exists():\n",
    "    raise FileNotFoundError(f\"Label folder not found: {labels_path}\")\n",
    "\n",
    "# count instances per class id\n",
    "class_counter = Counter()\n",
    "for label_file in labels_path.glob(\"*.txt\"):\n",
    "    with open(label_file, \"r\") as f:\n",
    "        for line in f:\n",
    "            parts = line.strip().split()\n",
    "            if parts:\n",
    "                class_counter[int(parts[0])] += 1\n",
    "\n",
    "# report\n",
    "print(\"\\nBacteria class instance counts (all):\")\n",
    "for class_id in range(4):  # classes: 0,1,2,3\n",
    "    print(f\"Class {class_id}: {class_counter.get(class_id, 0)} instances\")\n",
    "\n",
    "print(f\"\\nTotal instances across all classes: {sum(class_counter.values())}\")\n"
   ]
  },
  {
   "cell_type": "code",
   "execution_count": 2,
   "id": "40b0de69-2aac-4dd8-a97f-026c7d4743f4",
   "metadata": {},
   "outputs": [
    {
     "name": "stdout",
     "output_type": "stream",
     "text": [
      "\n",
      "=== Bacteria Class Instance Counts ===\n",
      "Class 0: 2370 instances\n",
      "Class 1: 1025 instances\n",
      "Class 2: 4053 instances\n",
      "Class 3: 839 instances\n",
      "\n",
      "Total instances across all classes: 8287\n"
     ]
    }
   ],
   "source": [
    "from pathlib import Path\n",
    "from collections import Counter\n",
    "\n",
    "# path to YOLO label files (train split)\n",
    "labels_path = Path(\"/home/siu856582712/Documents/dataset/clinical_datset/last_clinical_DS/orginal/train/labels\")\n",
    "if not labels_path.exists():\n",
    "    raise FileNotFoundError(f\"Label folder not found: {labels_path}\")\n",
    "\n",
    "# count instances per class id\n",
    "class_counter = Counter()\n",
    "for label_file in labels_path.glob(\"*.txt\"):\n",
    "    with open(label_file, \"r\") as f:\n",
    "        for line in f:\n",
    "            parts = line.strip().split()\n",
    "            if parts:\n",
    "                class_counter[int(parts[0])] += 1\n",
    "\n",
    "# report\n",
    "print(\"\\nBacteria class instance counts (train):\")\n",
    "for class_id in range(4):  # classes: 0,1,2,3\n",
    "    print(f\"Class {class_id}: {class_counter.get(class_id, 0)} instances\")\n",
    "\n",
    "print(f\"\\nTotal instances across all classes: {sum(class_counter.values())}\")\n"
   ]
  },
  {
   "cell_type": "code",
   "execution_count": null,
   "id": "0158b085-c1a8-4867-808e-812ad2c702f8",
   "metadata": {},
   "outputs": [],
   "source": []
  }
 ],
 "metadata": {
  "kernelspec": {
   "display_name": "Python 3 (ipykernel)",
   "language": "python",
   "name": "python3"
  },
  "language_info": {
   "codemirror_mode": {
    "name": "ipython",
    "version": 3
   },
   "file_extension": ".py",
   "mimetype": "text/x-python",
   "name": "python",
   "nbconvert_exporter": "python",
   "pygments_lexer": "ipython3",
   "version": "3.12.8"
  }
 },
 "nbformat": 4,
 "nbformat_minor": 5
}
